{
 "cells": [
  {
   "cell_type": "code",
   "execution_count": 1,
   "metadata": {},
   "outputs": [
    {
     "name": "stdout",
     "output_type": "stream",
     "text": [
      "['a', 'banana', 2, True]\n",
      "[[0, 1], [0, 2], ['x', 'y']]\n",
      "['a', 'banana', 2, True, 0]\n",
      "[0, 1, 2, 3, 4, 5, 6, 7, 8, 9, 10, 11, 12, 13, 14, 15, 16, 17, 18, 19]\n",
      "['u', 's', 'a', 'm', 'a']\n",
      "4\n"
     ]
    }
   ],
   "source": [
    "#list are create with square bracket in which any type of value can be store.\n",
    "letter = [\"a\", \"banana\", 2 , True ]\n",
    "print(letter)\n",
    "listinlist = [[0,1],[0,2],[\"x\",\"y\"]]\n",
    "print(listinlist)\n",
    "# \n",
    "cc = [0]\n",
    "c1 = cc *100\n",
    "#print(c1)\n",
    "combo = letter + cc\n",
    "print(combo)\n",
    "num = list(range(20))\n",
    "print(num)\n",
    "char = list(\"usama\")\n",
    "print(char)\n",
    "print(len(letter))"
   ]
  },
  {
   "cell_type": "code",
   "execution_count": 15,
   "metadata": {},
   "outputs": [
    {
     "name": "stdout",
     "output_type": "stream",
     "text": [
      "['a', 'b', 'c', 'd']\n",
      "b\n",
      "d\n",
      "['A', 'b', 'c', 'd']\n"
     ]
    }
   ],
   "source": [
    "letter = [\"a\", \"b\",\"c\", \"d\"]\n",
    "print(letter)\n",
    "print(letter[1])\n",
    "print(letter[-1])\n",
    "letter[0] = \"A\"\n",
    "print(letter)"
   ]
  },
  {
   "cell_type": "code",
   "execution_count": 21,
   "metadata": {},
   "outputs": [
    {
     "name": "stdout",
     "output_type": "stream",
     "text": [
      "[0, 1, 2, 3, 4, 5, 6, 7, 8, 9, 10, 11, 12, 13, 14, 15, 16, 17, 18, 19]\n",
      "[0, 2, 4, 6, 8]\n"
     ]
    }
   ],
   "source": [
    "numbers = list(range(20))\n",
    "print(numbers)\n",
    "print(numbers[0:10:2])\n",
    "# 0 is statrting 10 is ending and 2 is increament"
   ]
  },
  {
   "cell_type": "code",
   "execution_count": 24,
   "metadata": {},
   "outputs": [
    {
     "name": "stdout",
     "output_type": "stream",
     "text": [
      "[1, 2, 3, 4, 5, 6, 0]\n",
      "[1, 2, 'Hello', 3, 4, 5, 6, 0]\n"
     ]
    }
   ],
   "source": [
    "#append method is use to add a item in list at last \n",
    "list1 = [1,2,3,4,5,6]\n",
    "list1.append(0)\n",
    "print(list1)\n",
    "# we will use insert method to addd an item in any specefic location \n",
    "list1.insert(2,\"Hello\")\n",
    "print(list1)\n",
    "# we can also remove an item by remove method"
   ]
  },
  {
   "cell_type": "code",
   "execution_count": 27,
   "metadata": {},
   "outputs": [
    {
     "name": "stdout",
     "output_type": "stream",
     "text": [
      "[1, 2, 4, 5, 6]\n"
     ]
    }
   ],
   "source": [
    "#removing duplicate\n",
    "list1 = [1,2,4,2,5,6]\n",
    "list2 = []\n",
    "for x in list1:\n",
    "    if x  not in list2:\n",
    "        list2.append(x)\n",
    "print(list2)"
   ]
  },
  {
   "cell_type": "code",
   "execution_count": 36,
   "metadata": {},
   "outputs": [
    {
     "name": "stdout",
     "output_type": "stream",
     "text": [
      "['hello', 'greeting', 'greeting', 'greeting', 'greeting', 'greeting', 2, 4, 2, 5, 6]\n",
      "['hello', 'greeting', 'greeting', 'greeting', 'greeting', 'greeting', 'greeting', 2, 4, 2, 5, 6]\n"
     ]
    }
   ],
   "source": [
    "# to change the value of specific index \n",
    "list1[0] = \"hello\"\n",
    "print(list1)"
   ]
  }
 ],
 "metadata": {
  "kernelspec": {
   "display_name": "Python 3",
   "language": "python",
   "name": "python3"
  },
  "language_info": {
   "codemirror_mode": {
    "name": "ipython",
    "version": 3
   },
   "file_extension": ".py",
   "mimetype": "text/x-python",
   "name": "python",
   "nbconvert_exporter": "python",
   "pygments_lexer": "ipython3",
   "version": "3.7.6"
  }
 },
 "nbformat": 4,
 "nbformat_minor": 4
}
