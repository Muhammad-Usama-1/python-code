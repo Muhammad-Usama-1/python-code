{
 "cells": [
  {
   "cell_type": "code",
   "execution_count": null,
   "metadata": {},
   "outputs": [],
   "source": [
    "# To Do App in Python  Using List \n",
    "elements = []\n",
    "while True:\n",
    "    print(\"item in list\")\n",
    "    for element in elements:\n",
    "        print(\"--> \" + element)\n",
    "    print(\"Welcome In TO DO APP\")\n",
    "    print(\"Enter Your Choice\")\n",
    "    print(\"1. For Add Element in list\")\n",
    "    print(\"2. For Add delete in list\")\n",
    "    print(\"3. For clear thre item of list\")\n",
    "    print(\"4. For Exit from App\")\n",
    "    print(\"Note : CHOICE MUST BE IN NUMBER\")\n",
    "    userinput = int(input())\n",
    "    if userinput == 1:\n",
    "        elements.append(input(\"Enter an item to add in list\"))\n",
    "    elif userinput == 2:\n",
    "        item_to_remove = input(\"What you want to be remove\")\n",
    "        if item_to_remove not in elements:\n",
    "                print(\"This Item not exist\\n only this item is exist\")\n",
    "                print(elements)\n",
    "                break\n",
    "        elif item_to_remove in elements:\n",
    "            elements.remove(item_to_remove)\n",
    "            print(\"Item removed\")\n",
    "    elif userinput == 3:\n",
    "        elements.clear()\n",
    "    elif userinput == 4:\n",
    "        print(\"NICE TOO MEET YOU \")\n",
    "        print(\"You Skip from Our App \")\n",
    "        break\n",
    "    else:\n",
    "        print(\"invaild Input\")"
   ]
  },
  {
   "cell_type": "code",
   "execution_count": 2,
   "metadata": {},
   "outputs": [
    {
     "name": "stdout",
     "output_type": "stream",
     "text": [
      "2\n"
     ]
    }
   ],
   "source": [
    "print(len(elements))"
   ]
  },
  {
   "cell_type": "code",
   "execution_count": null,
   "metadata": {},
   "outputs": [],
   "source": []
  },
  {
   "cell_type": "code",
   "execution_count": null,
   "metadata": {},
   "outputs": [],
   "source": []
  }
 ],
 "metadata": {
  "kernelspec": {
   "display_name": "Python 3",
   "language": "python",
   "name": "python3"
  },
  "language_info": {
   "codemirror_mode": {
    "name": "ipython",
    "version": 3
   },
   "file_extension": ".py",
   "mimetype": "text/x-python",
   "name": "python",
   "nbconvert_exporter": "python",
   "pygments_lexer": "ipython3",
   "version": "3.7.6"
  }
 },
 "nbformat": 4,
 "nbformat_minor": 4
}
