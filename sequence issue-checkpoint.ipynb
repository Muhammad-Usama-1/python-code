{
 "cells": [
  {
   "cell_type": "code",
   "execution_count": 22,
   "metadata": {},
   "outputs": [
    {
     "name": "stdout",
     "output_type": "stream",
     "text": [
      "11\n",
      "14\n",
      "True\n"
     ]
    }
   ],
   "source": [
    "list1 = [1,3,5,7,9,11]#this will return true\n",
    "list2 = [2,4,8,99]\n",
    "list3 = [5,8,11,14]\n",
    "\n",
    "\n",
    "def arthimatic(seq):\n",
    "    for i in seq: # i will store 5 in third 11 is stored in i\n",
    "        if i == seq[0]: #5 == 5 true in third iteration it false because i is 11\n",
    "            continue  # condition true loop goes back and now store second element of list\n",
    "        elif i == seq[1]: # 8 == 8 condition true in third itteration 11 == 8 false\n",
    "            dif = i - seq[0] #difference store 3\n",
    "        else:\n",
    "            ind = seq.index(i) # ind store 3\n",
    "            pre = ind - 1 #pre store 3 - 1 to 2\n",
    "            if i == seq[pre] + dif: # 11 == true\n",
    "                continue\n",
    "            else:\n",
    "                return False\n",
    "    return True\n",
    "\n",
    "\n",
    "print(arthimatic(list3))"
   ]
  },
  {
   "cell_type": "code",
   "execution_count": 5,
   "metadata": {},
   "outputs": [
    {
     "name": "stdout",
     "output_type": "stream",
     "text": [
      "1\n",
      "3\n",
      "5\n",
      "7\n",
      "9\n",
      "11\n"
     ]
    }
   ],
   "source": [
    "for i in list1:\n",
    "    print(i)"
   ]
  },
  {
   "cell_type": "code",
   "execution_count": 10,
   "metadata": {},
   "outputs": [
    {
     "name": "stdout",
     "output_type": "stream",
     "text": [
      "8\n"
     ]
    }
   ],
   "source": [
    "for i in list3: # i will store 5\n",
    "        if i == list3[0]: #5 == 5 true\n",
    "            continue\n",
    "        elif i == list3[1]: # \n",
    "            print(i)"
   ]
  },
  {
   "cell_type": "code",
   "execution_count": 19,
   "metadata": {},
   "outputs": [
    {
     "name": "stdout",
     "output_type": "stream",
     "text": [
      "3\n"
     ]
    }
   ],
   "source": [
    "list1 = [1,3,5,7,9]\n",
    "for i in list1:\n",
    "    if i == list1[0]:\n",
    "        continue\n",
    "    elif i == list1[1]:\n",
    "        print(i)"
   ]
  },
  {
   "cell_type": "code",
   "execution_count": 26,
   "metadata": {},
   "outputs": [
    {
     "name": "stdout",
     "output_type": "stream",
     "text": [
      "w\n"
     ]
    }
   ],
   "source": [
    "a = 6\n",
    "if a == 6:\n",
    "    print(\"w\")\n",
    "elif a == 6:\n",
    "    print(\"q\")\n",
    "else:\n",
    "    print(\"look badddddddddddd\")"
   ]
  }
 ],
 "metadata": {
  "kernelspec": {
   "display_name": "Python 3",
   "language": "python",
   "name": "python3"
  },
  "language_info": {
   "codemirror_mode": {
    "name": "ipython",
    "version": 3
   },
   "file_extension": ".py",
   "mimetype": "text/x-python",
   "name": "python",
   "nbconvert_exporter": "python",
   "pygments_lexer": "ipython3",
   "version": "3.7.6"
  }
 },
 "nbformat": 4,
 "nbformat_minor": 4
}
