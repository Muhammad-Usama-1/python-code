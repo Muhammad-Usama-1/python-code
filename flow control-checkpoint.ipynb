{
 "cells": [
  {
   "cell_type": "code",
   "execution_count": null,
   "metadata": {},
   "outputs": [],
   "source": [
    "name = 25\n",
    "if name%2 == 0:\n",
    "    print(\"even\")\n",
    "elif name%5 == 0:\n",
    "    print(\"25 is also divisible by 5\")\n",
    "else:\n",
    "    print(\"odddddddddddddddddddddd\")\n"
   ]
  },
  {
   "cell_type": "code",
   "execution_count": null,
   "metadata": {},
   "outputs": [],
   "source": [
    "True\n",
    "print(\"sss\")"
   ]
  },
  {
   "cell_type": "code",
   "execution_count": 1,
   "metadata": {},
   "outputs": [
    {
     "name": "stdout",
     "output_type": "stream",
     "text": [
      "Enter your name\n",
      "muhammad usama\n",
      "your name is MUHAMMAD USAMA\n"
     ]
    }
   ],
   "source": [
    "name = \"\"\n",
    "while name != \"MUHAMMAD USAMA\":\n",
    "    print(\"Enter your name\")\n",
    "    y = input().upper()\n",
    "    name = y\n",
    "print(\"your name is \" + y)"
   ]
  },
  {
   "cell_type": "code",
   "execution_count": null,
   "metadata": {},
   "outputs": [],
   "source": [
    "name = \"\"\n",
    "age = \"\"\n",
    "while name != \"USAMA\" and age != 20:\n",
    "    name = input(\"Enter Your Name\").upper()\n",
    "    if name != \"USAMA\":\n",
    "        continue\n",
    "    age = int(input(\"what is your age?\"))\n",
    "    if age!= 20:\n",
    "        continue   \n",
    "    age = str(age)\n",
    "    print(\"Welcome\" + name + \"your are\" + age + \"year old\" )"
   ]
  },
  {
   "cell_type": "code",
   "execution_count": null,
   "metadata": {},
   "outputs": [],
   "source": []
  }
 ],
 "metadata": {
  "kernelspec": {
   "display_name": "Python 3",
   "language": "python",
   "name": "python3"
  },
  "language_info": {
   "codemirror_mode": {
    "name": "ipython",
    "version": 3
   },
   "file_extension": ".py",
   "mimetype": "text/x-python",
   "name": "python",
   "nbconvert_exporter": "python",
   "pygments_lexer": "ipython3",
   "version": "3.7.6"
  }
 },
 "nbformat": 4,
 "nbformat_minor": 4
}
