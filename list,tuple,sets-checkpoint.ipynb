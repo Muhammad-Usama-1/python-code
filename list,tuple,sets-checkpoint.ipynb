{
 "cells": [
  {
   "cell_type": "code",
   "execution_count": 23,
   "metadata": {},
   "outputs": [
    {
     "name": "stdout",
     "output_type": "stream",
     "text": [
      "['Math', 'qqq', 'science', 'physics', 'chem', 'bsse']\n",
      "['Math', 'qqq', 'science', 'physics', 'chem', 'bsse', 'chemical', 'engineer']\n",
      "['Math', 'science', 'physics', 'chem', 'bsse', 'chemical', 'engineer']\n",
      "[40, 39, 38, 37, 36, 35, 34, 33, 32, 31, 30, 29, 28, 27, 26, 25, 24, 23, 22, 21]\n",
      "['engineer', 'chemical', 'bsse', 'chem', 'physics', 'science', 'Math']\n",
      "['Math', 'bsse', 'chem', 'chemical', 'engineer', 'physics', 'science']\n"
     ]
    }
   ],
   "source": [
    "#list\n",
    "course = [\"Math\",\"science\",\"physics\",\"chem\",\"bsse\"]\n",
    "\n",
    "#print(course)\n",
    "#print(course[-1])\n",
    "#print(course[::2])\n",
    "#course.append(\"abc\")\n",
    "course.insert(1,\"qqq\")\n",
    "print(course)\n",
    "courses2 = [\"chemical\", \"engineer\"]\n",
    "course.extend(courses2)\n",
    "print(course)\n",
    "course.remove(\"qqq\")\n",
    "print(course)\n",
    "#sorting list\n",
    "y =list(range(40,20,-1))\n",
    "print(y)\n",
    "#sorting\n",
    "course.reverse()\n",
    "print(course)\n",
    "course.sort()\n",
    "print(course)"
   ]
  },
  {
   "cell_type": "code",
   "execution_count": 54,
   "metadata": {},
   "outputs": [
    {
     "name": "stdout",
     "output_type": "stream",
     "text": [
      "0\n",
      "0 CLD\n",
      "1 ics\n",
      "2 osftware\n",
      "3 sss\n"
     ]
    }
   ],
   "source": [
    "#index of a list item\n",
    "courses = [\"CLD\",\"ics\",\"osftware\",\"sss\"]\n",
    "courses1 = [\"CLD\",\"ics\",\"osftware\",\"sss\"]\n",
    "print(courses.index(\"CLD\"))\n",
    "#we will use if method if value not exist python will not rasie an error\n",
    "for index,course in enumerate(courses):\n",
    "    print(index,course)"
   ]
  },
  {
   "cell_type": "code",
   "execution_count": null,
   "metadata": {},
   "outputs": [],
   "source": []
  }
 ],
 "metadata": {
  "kernelspec": {
   "display_name": "Python 3",
   "language": "python",
   "name": "python3"
  },
  "language_info": {
   "codemirror_mode": {
    "name": "ipython",
    "version": 3
   },
   "file_extension": ".py",
   "mimetype": "text/x-python",
   "name": "python",
   "nbconvert_exporter": "python",
   "pygments_lexer": "ipython3",
   "version": "3.7.6"
  }
 },
 "nbformat": 4,
 "nbformat_minor": 4
}
