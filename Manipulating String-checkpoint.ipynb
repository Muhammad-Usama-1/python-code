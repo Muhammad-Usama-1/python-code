{
 "cells": [
  {
   "cell_type": "code",
   "execution_count": 6,
   "metadata": {},
   "outputs": [
    {
     "name": "stdout",
     "output_type": "stream",
     "text": [
      "This is Alice's Mother\n"
     ]
    }
   ],
   "source": [
    "spam = \"This is Alice's Mother\"\n",
    "print(spam)"
   ]
  },
  {
   "cell_type": "code",
   "execution_count": 8,
   "metadata": {},
   "outputs": [
    {
     "name": "stdout",
     "output_type": "stream",
     "text": [
      "This is Alice's Home\n"
     ]
    }
   ],
   "source": [
    "spam = 'This is Alice\\'s Home'\n",
    "print(spam)"
   ]
  },
  {
   "cell_type": "code",
   "execution_count": 16,
   "metadata": {},
   "outputs": [
    {
     "name": "stdout",
     "output_type": "stream",
     "text": [
      "this is osama\"s HOme\n"
     ]
    }
   ],
   "source": [
    "spam = \"this is osama\\\"s HOme\"\n",
    "print(spam)"
   ]
  },
  {
   "cell_type": "code",
   "execution_count": 13,
   "metadata": {},
   "outputs": [
    {
     "name": "stdout",
     "output_type": "stream",
     "text": [
      "working with\ttab \n"
     ]
    }
   ],
   "source": [
    "spam = \"working with\\ttab \"\n",
    "print(spam)"
   ]
  },
  {
   "cell_type": "code",
   "execution_count": 12,
   "metadata": {},
   "outputs": [
    {
     "name": "stdout",
     "output_type": "stream",
     "text": [
      "working with \n",
      "new line break\n"
     ]
    }
   ],
   "source": [
    "spam = \"working with \\nnew line break\"\n",
    "print(spam)"
   ]
  },
  {
   "cell_type": "code",
   "execution_count": 14,
   "metadata": {
    "scrolled": true
   },
   "outputs": [
    {
     "name": "stdout",
     "output_type": "stream",
     "text": [
      "working with \\ backslash\n"
     ]
    }
   ],
   "source": [
    "spam = \"working with \\\\ backslash\"\n",
    "print(spam)"
   ]
  },
  {
   "cell_type": "code",
   "execution_count": 17,
   "metadata": {},
   "outputs": [
    {
     "name": "stdout",
     "output_type": "stream",
     "text": [
      "Hello My Name is Muhammad Usama\n",
      "I am belong To Ansari's Family\n"
     ]
    }
   ],
   "source": [
    "info = \"Hello My Name is Muhammad Usama\\nI am belong To Ansari\\'s Family\"\n",
    "print(info)"
   ]
  },
  {
   "cell_type": "code",
   "execution_count": 18,
   "metadata": {},
   "outputs": [
    {
     "name": "stdout",
     "output_type": "stream",
     "text": [
      "tab is not\\t working here \n"
     ]
    }
   ],
   "source": [
    "#You can place an r before the beginning quotation mark of a string to make\n",
    "#it a raw string. A raw string completely ignores all escape characters and\n",
    "#prints any backslash that appears in the string.\n",
    "print(r\"tab is not\\t working here \")"
   ]
  },
  {
   "cell_type": "code",
   "execution_count": 22,
   "metadata": {
    "scrolled": true
   },
   "outputs": [
    {
     "name": "stdout",
     "output_type": "stream",
     "text": [
      "\n",
      "what's ever you right will exaclty print weather you tab or \n",
      "go to new line\n",
      "\n",
      "\n"
     ]
    }
   ],
   "source": [
    "#While you can use the \\n escape character to put a newline into a string, it\n",
    "#is often easier to use multiline strings. A multiline string in Python begins\n",
    "#and ends with either three single quotes or three double quotes. Any quotes,\n",
    "#tabs, or newlines in between the “triple quotes” are considered part of the\n",
    "#string. Python’s indentation rules for blocks do not apply to lines inside a\n",
    "#multiline string\n",
    "\n",
    "print(\"\"\"\n",
    "what's ever you right will exaclty print weather you tab or \n",
    "go to new line\n",
    "\n",
    "\"\"\")"
   ]
  },
  {
   "cell_type": "code",
   "execution_count": 30,
   "metadata": {},
   "outputs": [
    {
     "name": "stdout",
     "output_type": "stream",
     "text": [
      "wonder???\n"
     ]
    }
   ],
   "source": [
    "def spam():\n",
    "    \"\"\"this\n",
    "    text is \n",
    "    comment\n",
    "    \"\"\"\n",
    "    print(\"wonder???\")\n",
    "    \n",
    "spam()"
   ]
  },
  {
   "cell_type": "code",
   "execution_count": 31,
   "metadata": {},
   "outputs": [
    {
     "name": "stdout",
     "output_type": "stream",
     "text": [
      "l\n"
     ]
    }
   ],
   "source": [
    "spam = \"Hello World!\"\n",
    "print(spam[2])"
   ]
  },
  {
   "cell_type": "code",
   "execution_count": 37,
   "metadata": {},
   "outputs": [
    {
     "name": "stdout",
     "output_type": "stream",
     "text": [
      "True\n",
      "True\n"
     ]
    },
    {
     "data": {
      "text/plain": [
       "True"
      ]
     },
     "execution_count": 37,
     "metadata": {},
     "output_type": "execute_result"
    }
   ],
   "source": [
    "#The in and not in Operators with Strings\n",
    "\n",
    "spam = \"hello i am muhammad usama\"\n",
    "y = \"hello\" in spam\n",
    "print(y)\n",
    "z = \"Hello\" not in spam\n",
    "print(z)\n",
    "\" \" in spam"
   ]
  },
  {
   "cell_type": "code",
   "execution_count": 1,
   "metadata": {},
   "outputs": [
    {
     "name": "stdout",
     "output_type": "stream",
     "text": [
      "USAMA\n",
      "usama\n"
     ]
    }
   ],
   "source": [
    "spam = \"usama\"\n",
    "spam = spam.upper()\n",
    "print(spam)\n",
    "spam = spam.lower()\n",
    "print(spam)"
   ]
  },
  {
   "cell_type": "code",
   "execution_count": 4,
   "metadata": {},
   "outputs": [
    {
     "name": "stdout",
     "output_type": "stream",
     "text": [
      "USAMA\n",
      "usama\n"
     ]
    }
   ],
   "source": [
    "spam = \"usama\"\n",
    "spam = spam.upper()\n",
    "print(spam)\n",
    "spam = spam.lower()\n",
    "print(spam)"
   ]
  },
  {
   "cell_type": "code",
   "execution_count": 6,
   "metadata": {},
   "outputs": [
    {
     "name": "stdout",
     "output_type": "stream",
     "text": [
      "enter your name in varaition that will print your name in uppecaseusaMa\n",
      "USAMA\n"
     ]
    }
   ],
   "source": [
    "name = input(\"enter your name in varaition that will print your name in uppecase\")\n",
    "name = name.upper()\n",
    "print(name)"
   ]
  },
  {
   "cell_type": "code",
   "execution_count": 13,
   "metadata": {},
   "outputs": [
    {
     "name": "stdout",
     "output_type": "stream",
     "text": [
      "True\n"
     ]
    }
   ],
   "source": [
    "spam = \"usama\"\n",
    "z = spam.islower()\n",
    "y = spam.isupper()\n",
    "print(z)"
   ]
  },
  {
   "cell_type": "code",
   "execution_count": 14,
   "metadata": {},
   "outputs": [
    {
     "data": {
      "text/plain": [
       "True"
      ]
     },
     "execution_count": 14,
     "metadata": {},
     "output_type": "execute_result"
    }
   ],
   "source": [
    "'hello'.isalnum()"
   ]
  },
  {
   "cell_type": "code",
   "execution_count": 26,
   "metadata": {},
   "outputs": [
    {
     "name": "stdout",
     "output_type": "stream",
     "text": [
      "True\n",
      "True\n",
      "True\n",
      "False\n",
      "True\n",
      "True\n",
      "False\n"
     ]
    }
   ],
   "source": [
    "spam = \"usama\"\n",
    "y = spam.isalpha()\n",
    "print(y)\n",
    "spam = \"usam123\"\n",
    "z = spam.isalnum()\n",
    "print(z)\n",
    "spam = \"usama\"\n",
    "t = spam.isalnum()\n",
    "print(t)\n",
    "spam = \"123e\"\n",
    "t = spam.isdecimal()\n",
    "print(t)\n",
    "spam = \"   \"\n",
    "t = spam.isspace()\n",
    "print(t)\n",
    "spam =\" This Is Title 1\"\n",
    "t = spam.istitle()\n",
    "print(t)\n",
    "spam = 'This Is not Title Case'.istitle()\n",
    "print(spam)"
   ]
  },
  {
   "cell_type": "code",
   "execution_count": 2,
   "metadata": {
    "scrolled": false
   },
   "outputs": [
    {
     "name": "stdout",
     "output_type": "stream",
     "text": [
      "welcome\n",
      "Enter A new Password \"must contain alphabet and number\"..usama123!!!\n",
      "Please Enter Password As mention\n",
      "welcome\n",
      "Enter A new Password \"must contain alphabet and number\"..usama123\n",
      "PAssword createddd\n"
     ]
    }
   ],
   "source": [
    "#this program will push the user to setup a password with alpha and number\n",
    "while True:\n",
    "    pasword = input(\"Enter A new Password \\\"must contain alphabet and number\\\"..\")\n",
    "    if pasword.isalnum():\n",
    "        print(\"PAssword createddd\")\n",
    "        break\n",
    "    print(\"Please Enter Password As mention\")"
   ]
  },
  {
   "cell_type": "code",
   "execution_count": 6,
   "metadata": {
    "scrolled": true
   },
   "outputs": [
    {
     "name": "stdout",
     "output_type": "stream",
     "text": [
      "only Muhammad name's people are allowed to partcipate\n",
      "Enter Your Name \n",
      "muhammad usama\n"
     ]
    },
    {
     "ename": "AttributeError",
     "evalue": "'str' object has no attribute 'startstwith'",
     "output_type": "error",
     "traceback": [
      "\u001b[1;31m---------------------------------------------------------------------------\u001b[0m",
      "\u001b[1;31mAttributeError\u001b[0m                            Traceback (most recent call last)",
      "\u001b[1;32m<ipython-input-6-7687308d2a0f>\u001b[0m in \u001b[0;36m<module>\u001b[1;34m\u001b[0m\n\u001b[0;32m      5\u001b[0m     \u001b[0mname\u001b[0m \u001b[1;33m=\u001b[0m \u001b[0minput\u001b[0m\u001b[1;33m(\u001b[0m\u001b[1;33m)\u001b[0m\u001b[1;33m\u001b[0m\u001b[1;33m\u001b[0m\u001b[0m\n\u001b[0;32m      6\u001b[0m     \u001b[0mname\u001b[0m \u001b[1;33m=\u001b[0m \u001b[0mname\u001b[0m\u001b[1;33m.\u001b[0m\u001b[0mlower\u001b[0m\u001b[1;33m(\u001b[0m\u001b[1;33m)\u001b[0m\u001b[1;33m\u001b[0m\u001b[1;33m\u001b[0m\u001b[0m\n\u001b[1;32m----> 7\u001b[1;33m     \u001b[0my\u001b[0m \u001b[1;33m=\u001b[0m \u001b[0mname\u001b[0m\u001b[1;33m.\u001b[0m\u001b[0mstartstwith\u001b[0m\u001b[1;33m(\u001b[0m\u001b[1;34m\"muhammad\"\u001b[0m\u001b[1;33m)\u001b[0m\u001b[1;33m\u001b[0m\u001b[1;33m\u001b[0m\u001b[0m\n\u001b[0m\u001b[0;32m      8\u001b[0m     \u001b[1;32mif\u001b[0m \u001b[0my\u001b[0m \u001b[1;33m==\u001b[0m \u001b[1;32mTrue\u001b[0m\u001b[1;33m:\u001b[0m\u001b[1;33m\u001b[0m\u001b[1;33m\u001b[0m\u001b[0m\n\u001b[0;32m      9\u001b[0m         \u001b[0mprint\u001b[0m\u001b[1;33m(\u001b[0m\u001b[1;34m\"you are eligible for our program\"\u001b[0m\u001b[1;33m)\u001b[0m\u001b[1;33m\u001b[0m\u001b[1;33m\u001b[0m\u001b[0m\n",
      "\u001b[1;31mAttributeError\u001b[0m: 'str' object has no attribute 'startstwith'"
     ]
    }
   ],
   "source": [
    "#The startswith() and endswith() String Methods\n",
    "print(\"only Muhammad name's people are allowed to partcipate\")\n",
    "while True:\n",
    "    print(\"Enter Your Name \")\n",
    "    name = input()\n",
    "    name = name.lower()\n",
    "    y = name.startstwith(\"muhammad\")\n",
    "    if y == True:\n",
    "        print(\"you are eligible for our program\")\n",
    "        break\n",
    "    print(\"you are not eligible! because your name is not contaiined Muhammad\") "
   ]
  },
  {
   "cell_type": "code",
   "execution_count": null,
   "metadata": {},
   "outputs": [],
   "source": [
    "while True:\n",
    "    spam = input()\n",
    "    y = spam.startswith(\"muhammad\")\n",
    "    if y == True:\n",
    "        print(\"Eligible\")\n",
    "        break\n",
    "    print(\"you are not eligible\")\n",
    "    if y != True:\n",
    "        break"
   ]
  },
  {
   "cell_type": "code",
   "execution_count": null,
   "metadata": {},
   "outputs": [],
   "source": [
    "print(\"d\")"
   ]
  }
 ],
 "metadata": {
  "kernelspec": {
   "display_name": "Python 3",
   "language": "python",
   "name": "python3"
  },
  "language_info": {
   "codemirror_mode": {
    "name": "ipython",
    "version": 3
   },
   "file_extension": ".py",
   "mimetype": "text/x-python",
   "name": "python",
   "nbconvert_exporter": "python",
   "pygments_lexer": "ipython3",
   "version": "3.7.6"
  }
 },
 "nbformat": 4,
 "nbformat_minor": 4
}
